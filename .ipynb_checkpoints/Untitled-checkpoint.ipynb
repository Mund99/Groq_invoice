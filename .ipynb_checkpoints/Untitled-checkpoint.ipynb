{
 "cells": [
  {
   "cell_type": "code",
   "execution_count": 24,
   "id": "a288bd4e-05a5-4a9d-add0-0c66c67bf17e",
   "metadata": {},
   "outputs": [
    {
     "name": "stdout",
     "output_type": "stream",
     "text": [
      "PROJECT DIRECTORY = /Users/pcloud/Desktop/Groq_invoice\n"
     ]
    }
   ],
   "source": [
    "import os \n",
    "import sys\n",
    "\n",
    "PROJECT_DIR = os.getcwd()\n",
    "print(f'PROJECT DIRECTORY = {PROJECT_DIR}')\n",
    "\n",
    "sys.path.append(PROJECT_DIR)"
   ]
  },
  {
   "cell_type": "code",
   "execution_count": 25,
   "id": "56bb5889-fdeb-4f08-8150-fd24e14a639b",
   "metadata": {},
   "outputs": [],
   "source": [
    "from db_functions import read_customer_db, read_specific_customer\n",
    "from function_tool_creator import create_multiple_function_tools\n",
    "from groq import Groq\n",
    "from config import *\n",
    "import json"
   ]
  },
  {
   "cell_type": "code",
   "execution_count": 30,
   "id": "2784454e-ccca-410b-9186-5325d1c5be43",
   "metadata": {},
   "outputs": [
    {
     "data": {
      "text/plain": [
       "[{'type': 'function',\n",
       "  'function': {'name': 'read_customer_db',\n",
       "   'description': 'Run this function when user requests to read all entries in the customer database.',\n",
       "   'parameters': {'type': 'object',\n",
       "    'properties': {'dummy_param': {'type': 'string',\n",
       "      'description': 'Parameter: dummy_param'}},\n",
       "    'required': []}}}]"
      ]
     },
     "execution_count": 30,
     "metadata": {},
     "output_type": "execute_result"
    }
   ],
   "source": [
    "SYSTEM_MESSAGE = \"\"\"\n",
    "You are Sumify, an AI-powered invoice processing assistant. Your primary role is to help users with tasks related to invoices. The user may request assistance with creating, editing, reviewing or sending invoices. Here are your guidelines:\n",
    "\n",
    "1. Understanding User Intent:\n",
    "   - Identify the user's specific request related to invoice processing.\n",
    "   - Provide clear and concise instructions or actions based on the identified intent. \n",
    "   \n",
    "1a. Intention 1: Creating Invoices\n",
    "   - Gather necessary details such as customer name, product name, unit of measurement (uom) and quantity. \n",
    "   - Product price is not required to obtain from the user.\n",
    "   - Once any details is collected, immediately perform checking with the database to ensure the data is valid.\n",
    "   \n",
    "1b. Intention 2: Save invoice \n",
    "    - Save the invoice details to the invoice database. Confirm details with the user before saving, do not save by yourself.\n",
    "    \n",
    "1c. Intention 3: Edit invoice\n",
    "   - Enable the user to key in the invoice number to view the invoice from the database. \n",
    "\n",
    "2. Other requests:\n",
    "   - such as checking the customer database, to understand what is the customer in the database\n",
    "\n",
    "3. Additional information:\n",
    "   - Only handle tasks related to invoice processing. Politely decline any requests outside the scope of invoice management, and guide the user back to relevant tasks.\n",
    "   - Strictly no text formatting (e.g., no bold, italics, bullet points). Stick to simple text formating only.\n",
    "   - Sumify operates in Malaysia and adapts its language style to suit Bahasa Melayu, English, and Chinese, ensuring clear communication with users.\n",
    "\"\"\"\n",
    "\n",
    "\n",
    "tools = create_multiple_function_tools([read_customer_db])\n",
    "tools"
   ]
  },
  {
   "cell_type": "code",
   "execution_count": 34,
   "id": "636f1daf-7131-4b6f-8a71-0dd8e238b1f6",
   "metadata": {},
   "outputs": [],
   "source": [
    "client = Groq(api_key = os.getenv('GROQ_API_KEY'))\n",
    "model = 'gemma2-9b-it'\n",
    "# model = 'llama3-8b-8192'\n",
    "\n",
    "messages=[\n",
    "        {\n",
    "            \"role\": \"system\",\n",
    "            \"content\": SYSTEM_MESSAGE\n",
    "        },\n",
    "        {\n",
    "            \"role\": \"user\",\n",
    "            \"content\": \"Hello\"\n",
    "        }\n",
    "    ]"
   ]
  },
  {
   "cell_type": "code",
   "execution_count": 35,
   "id": "bf9bc23b-8428-4a4c-8ca3-404a39e3de5d",
   "metadata": {},
   "outputs": [],
   "source": [
    "chat_completion = client.chat.completions.create(\n",
    "    model=model, messages=messages, tools=tools, tool_choice=\"auto\", max_tokens=8192)"
   ]
  },
  {
   "cell_type": "code",
   "execution_count": 36,
   "id": "5f013515-ade2-46b4-9363-f1dbd49b79b7",
   "metadata": {},
   "outputs": [
    {
     "name": "stdout",
     "output_type": "stream",
     "text": [
      "ChatCompletionMessage(content='Hello! May I assist you with any invoice processing tasks?\\n', role='assistant', function_call=None, tool_calls=None)\n"
     ]
    }
   ],
   "source": [
    "response_msg = chat_completion.choices[0].message\n",
    "print(response_msg)"
   ]
  },
  {
   "cell_type": "code",
   "execution_count": 7,
   "id": "5726683f-1539-4964-8ec6-702120d5f530",
   "metadata": {},
   "outputs": [
    {
     "data": {
      "text/plain": [
       "True"
      ]
     },
     "execution_count": 7,
     "metadata": {},
     "output_type": "execute_result"
    }
   ],
   "source": [
    "response_msg.tool_calls == None"
   ]
  },
  {
   "cell_type": "code",
   "execution_count": 8,
   "id": "4d957267-9f55-43ad-8e27-b3f787daf8f1",
   "metadata": {},
   "outputs": [
    {
     "data": {
      "text/plain": [
       "'Hi there! How can I help you with your invoice today?\\n'"
      ]
     },
     "execution_count": 8,
     "metadata": {},
     "output_type": "execute_result"
    }
   ],
   "source": [
    "response_msg.content"
   ]
  },
  {
   "cell_type": "code",
   "execution_count": 37,
   "id": "9b4384ac-8f3b-4725-98fb-33f5d602e641",
   "metadata": {},
   "outputs": [],
   "source": [
    "messages.append({\"role\":response_msg.role, \"content\":response_msg.content})"
   ]
  },
  {
   "cell_type": "code",
   "execution_count": 38,
   "id": "65d35e73-6976-463d-868b-dcecb1f5168a",
   "metadata": {},
   "outputs": [],
   "source": [
    "user_msg = \"What else can you do?\"\n",
    "messages.append({\"role\":\"user\", \"content\": user_msg})\n",
    "chat_completion = client.chat.completions.create(\n",
    "    model=model, messages=messages, tools=tools, tool_choice=\"auto\", max_tokens=8196)"
   ]
  },
  {
   "cell_type": "code",
   "execution_count": 39,
   "id": "6f7b2cf8-7184-4b8c-91c4-ec0abede6ae0",
   "metadata": {},
   "outputs": [
    {
     "name": "stdout",
     "output_type": "stream",
     "text": [
      "ChatCompletionMessage(content='I can help you create, edit, and save invoices.  \\n\\nI can also check the customer database if you need to look up customer information.  What can I do for you today?\\n', role='assistant', function_call=None, tool_calls=None)\n"
     ]
    }
   ],
   "source": [
    "response_msg = chat_completion.choices[0].message\n",
    "print(response_msg)"
   ]
  },
  {
   "cell_type": "code",
   "execution_count": 40,
   "id": "90c03ca8-65d0-4ab1-98ba-30ad99d9b4cc",
   "metadata": {},
   "outputs": [],
   "source": [
    "messages.append({\"role\":response_msg.role, \"content\":response_msg.content})"
   ]
  },
  {
   "cell_type": "code",
   "execution_count": 41,
   "id": "a57a621e-c799-4684-bf15-9337883aa9bc",
   "metadata": {},
   "outputs": [],
   "source": [
    "user_msg = \"I want to read the customer database\"\n",
    "messages.append({\"role\":\"user\", \"content\": user_msg})\n",
    "chat_completion = client.chat.completions.create(\n",
    "    model=model, messages=messages, tools=tools, tool_choice=\"auto\", max_tokens=8196)"
   ]
  },
  {
   "cell_type": "code",
   "execution_count": 42,
   "id": "4cc3b71f-4fbe-441f-8db5-de36cff2246d",
   "metadata": {},
   "outputs": [
    {
     "name": "stdout",
     "output_type": "stream",
     "text": [
      "ChatCompletionMessage(content=None, role='assistant', function_call=None, tool_calls=[ChatCompletionMessageToolCall(id='call_5xk3', function=Function(arguments='{\"dummy_param\":\" \"}', name='read_customer_db'), type='function')])\n"
     ]
    }
   ],
   "source": [
    "response_msg = chat_completion.choices[0].message\n",
    "print(response_msg)"
   ]
  },
  {
   "cell_type": "code",
   "execution_count": 43,
   "id": "a21c6021-f76e-428a-a2de-779f02e94ead",
   "metadata": {},
   "outputs": [
    {
     "data": {
      "text/plain": [
       "[ChatCompletionMessageToolCall(id='call_5xk3', function=Function(arguments='{\"dummy_param\":\" \"}', name='read_customer_db'), type='function')]"
      ]
     },
     "execution_count": 43,
     "metadata": {},
     "output_type": "execute_result"
    }
   ],
   "source": [
    "response_msg.tool_calls"
   ]
  },
  {
   "cell_type": "code",
   "execution_count": 44,
   "id": "490ec91c-1780-483f-8ba3-744bf8e99217",
   "metadata": {},
   "outputs": [],
   "source": [
    "messages.append(\n",
    "    {\n",
    "        \"role\": response_msg.role,\n",
    "        \"tool_calls\": [\n",
    "            {\n",
    "                \"id\": tool_call.id,\n",
    "                \"function\": {\n",
    "                    \"name\": tool_call.function.name,\n",
    "                    \"arguments\": tool_call.function.arguments,\n",
    "                },\n",
    "                \"type\": tool_call.type,\n",
    "            }\n",
    "            for tool_call in response_msg.tool_calls\n",
    "        ],\n",
    "    }\n",
    ")"
   ]
  },
  {
   "cell_type": "code",
   "execution_count": null,
   "id": "b0e4f827-8867-46f5-b5fc-70fee08069a8",
   "metadata": {},
   "outputs": [],
   "source": []
  },
  {
   "cell_type": "code",
   "execution_count": null,
   "id": "0f49d7e7-77fa-4a24-8446-fd1025b30787",
   "metadata": {},
   "outputs": [],
   "source": []
  },
  {
   "cell_type": "code",
   "execution_count": 45,
   "id": "6babb538-beac-4e55-a215-8e22d1e08a0f",
   "metadata": {
    "scrolled": true
   },
   "outputs": [
    {
     "name": "stdout",
     "output_type": "stream",
     "text": [
      "[\n",
      "  {\n",
      "    \"role\": \"system\",\n",
      "    \"content\": \"\\nYou are Sumify, an AI-powered invoice processing assistant. Your primary role is to help users with tasks related to invoices. The user may request assistance with creating, editing, reviewing or sending invoices. Here are your guidelines:\\n\\n1. Understanding User Intent:\\n   - Identify the user's specific request related to invoice processing.\\n   - Provide clear and concise instructions or actions based on the identified intent. \\n   \\n1a. Intention 1: Creating Invoices\\n   - Gather necessary details such as customer name, product name, unit of measurement (uom) and quantity. \\n   - Product price is not required to obtain from the user.\\n   - Once any details is collected, immediately perform checking with the database to ensure the data is valid.\\n   \\n1b. Intention 2: Save invoice \\n    - Save the invoice details to the invoice database. Confirm details with the user before saving, do not save by yourself.\\n    \\n1c. Intention 3: Edit invoice\\n   - Enable the user to key in the invoice number to view the invoice from the database. \\n\\n2. Other requests:\\n   - such as checking the customer database, to understand what is the customer in the database\\n\\n3. Additional information:\\n   - Only handle tasks related to invoice processing. Politely decline any requests outside the scope of invoice management, and guide the user back to relevant tasks.\\n   - Strictly no text formatting (e.g., no bold, italics, bullet points). Stick to simple text formating only.\\n   - Sumify operates in Malaysia and adapts its language style to suit Bahasa Melayu, English, and Chinese, ensuring clear communication with users.\\n\"\n",
      "  },\n",
      "  {\n",
      "    \"role\": \"user\",\n",
      "    \"content\": \"Hello\"\n",
      "  },\n",
      "  {\n",
      "    \"role\": \"assistant\",\n",
      "    \"content\": \"Hello! May I assist you with any invoice processing tasks?\\n\"\n",
      "  },\n",
      "  {\n",
      "    \"role\": \"user\",\n",
      "    \"content\": \"What else can you do?\"\n",
      "  },\n",
      "  {\n",
      "    \"role\": \"assistant\",\n",
      "    \"content\": \"I can help you create, edit, and save invoices.  \\n\\nI can also check the customer database if you need to look up customer information.  What can I do for you today?\\n\"\n",
      "  },\n",
      "  {\n",
      "    \"role\": \"user\",\n",
      "    \"content\": \"I want to read the customer database\"\n",
      "  },\n",
      "  {\n",
      "    \"role\": \"assistant\",\n",
      "    \"tool_calls\": [\n",
      "      {\n",
      "        \"id\": \"call_5xk3\",\n",
      "        \"function\": {\n",
      "          \"name\": \"read_customer_db\",\n",
      "          \"arguments\": \"{\\\"dummy_param\\\":\\\" \\\"}\"\n",
      "        },\n",
      "        \"type\": \"function\"\n",
      "      }\n",
      "    ]\n",
      "  },\n",
      "  {\n",
      "    \"role\": \"tool\",\n",
      "    \"content\": \"\\\"[\\\\n    {\\\\n        \\\\\\\"company_name\\\\\\\": \\\\\\\"ABC Sdn Bhd\\\\\\\",\\\\n        \\\\\\\"address\\\\\\\": \\\\\\\"123, Jalan Bukit Bintang, 55100 Kuala Lumpur, Malaysia\\\\\\\",\\\\n        \\\\\\\"contact_person\\\\\\\": \\\\\\\"Mr. Lim\\\\\\\",\\\\n        \\\\\\\"contact_number\\\\\\\": \\\\\\\"+60 3-1234 5678\\\\\\\",\\\\n        \\\\\\\"email\\\\\\\": \\\\\\\"lim@abc.com.my\\\\\\\"\\\\n    },\\\\n    {\\\\n        \\\\\\\"company_name\\\\\\\": \\\\\\\"XYZ Trading\\\\\\\",\\\\n        \\\\\\\"address\\\\\\\": \\\\\\\"456, Jalan Ampang, 50450 Kuala Lumpur, Malaysia\\\\\\\",\\\\n        \\\\\\\"contact_person\\\\\\\": \\\\\\\"Ms. Tan\\\\\\\",\\\\n        \\\\\\\"contact_number\\\\\\\": \\\\\\\"+60 3-8765 4321\\\\\\\",\\\\n        \\\\\\\"email\\\\\\\": \\\\\\\"tan@xyztrading.com.my\\\\\\\"\\\\n    },\\\\n    {\\\\n        \\\\\\\"company_name\\\\\\\": \\\\\\\"Tech Innovators\\\\\\\",\\\\n        \\\\\\\"address\\\\\\\": \\\\\\\"789, Jalan Tun Razak, 50400 Kuala Lumpur, Malaysia\\\\\\\",\\\\n        \\\\\\\"contact_person\\\\\\\": \\\\\\\"Mr. Wong\\\\\\\",\\\\n        \\\\\\\"contact_number\\\\\\\": \\\\\\\"+60 3-1234 8765\\\\\\\",\\\\n        \\\\\\\"email\\\\\\\": \\\\\\\"wong@techinnovators.com.my\\\\\\\"\\\\n    }\\\\n]\\\"\",\n",
      "    \"tool_call_id\": \"call_5xk3\"\n",
      "  }\n",
      "]\n"
     ]
    }
   ],
   "source": [
    "import json\n",
    "available_functions = {\n",
    "    \"read_customer_db\": read_customer_db,\n",
    "}\n",
    "\n",
    "for tool_call in response_msg.tool_calls:\n",
    "    function_name = tool_call.function.name\n",
    "    function_to_call = available_functions[function_name]\n",
    "    function_args = json.loads(tool_call.function.arguments)\n",
    "    function_response = function_to_call(**function_args)\n",
    "\n",
    "    # Note how we create a separate tool call message for each tool call\n",
    "    # the model is able to discern the tool call result through the tool_call_id\n",
    "    messages.append(\n",
    "        {\n",
    "            \"role\": \"tool\",\n",
    "            \"content\": json.dumps(function_response),\n",
    "            \"tool_call_id\": tool_call.id,\n",
    "        }\n",
    "    )\n",
    "\n",
    "print(json.dumps(messages, indent=2))\n"
   ]
  },
  {
   "cell_type": "code",
   "execution_count": 46,
   "id": "ceb02848-9b51-4205-b4c9-68c04436d32e",
   "metadata": {},
   "outputs": [
    {
     "name": "stdout",
     "output_type": "stream",
     "text": [
      "Here are the customer details from the database:\n",
      "\n",
      "ABC Sdn Bhd\n",
      "123, Jalan Bukit Bintang, 55100 Kuala Lumpur, Malaysia\n",
      "Mr. Lim\n",
      "+60 3-1234 5678\n",
      "lim@abc.com.my\n",
      "\n",
      "XYZ Trading\n",
      "456, Jalan Ampang, 50450 Kuala Lumpur, Malaysia\n",
      "Ms. Tan\n",
      "+60 3-8765 4321\n",
      "tan@xyztrading.com.my\n",
      "\n",
      "Tech Innovators\n",
      "789, Jalan Tun Razak, 50400 Kuala Lumpur, Malaysia\n",
      "Mr. Wong\n",
      "+60 3-1234 8765\n",
      "wong@techinnovators.com.my \n",
      "\n",
      "\n",
      "\n",
      "Would you like to perform any other actions?\n",
      "\n"
     ]
    }
   ],
   "source": [
    "response = client.chat.completions.create(\n",
    "    model=model, messages=messages, tools=tools, tool_choice=\"auto\", max_tokens=8196\n",
    ")\n",
    "\n",
    "print(response.choices[0].message.content)"
   ]
  },
  {
   "cell_type": "code",
   "execution_count": 47,
   "id": "1aa06b2c-21c4-4e1d-93e7-b57c56169a3c",
   "metadata": {},
   "outputs": [],
   "source": [
    "user_msg = \"Ok that is good.\"\n",
    "messages.append({\"role\":\"user\", \"content\": user_msg})\n",
    "chat_completion = client.chat.completions.create(\n",
    "    model=model, messages=messages, tools=tools, tool_choice=\"auto\", max_tokens=8196)"
   ]
  },
  {
   "cell_type": "code",
   "execution_count": 48,
   "id": "f4294994-edd4-4992-9b6a-f83a4ad3aeac",
   "metadata": {},
   "outputs": [
    {
     "name": "stdout",
     "output_type": "stream",
     "text": [
      "ChatCompletionMessage(content='Is there anything else I can help you with regarding your invoices?', role='assistant', function_call=None, tool_calls=None)\n",
      "Is there anything else I can help you with regarding your invoices?\n"
     ]
    }
   ],
   "source": [
    "response_msg = chat_completion.choices[0].message\n",
    "print(response_msg)\n",
    "print(response_msg.content)"
   ]
  },
  {
   "cell_type": "code",
   "execution_count": 49,
   "id": "3f3f027f-67cb-4f71-bb7f-21d3f11eaf7f",
   "metadata": {},
   "outputs": [
    {
     "data": {
      "text/plain": [
       "[{'role': 'system',\n",
       "  'content': \"\\nYou are Sumify, an AI-powered invoice processing assistant. Your primary role is to help users with tasks related to invoices. The user may request assistance with creating, editing, reviewing or sending invoices. Here are your guidelines:\\n\\n1. Understanding User Intent:\\n   - Identify the user's specific request related to invoice processing.\\n   - Provide clear and concise instructions or actions based on the identified intent. \\n   \\n1a. Intention 1: Creating Invoices\\n   - Gather necessary details such as customer name, product name, unit of measurement (uom) and quantity. \\n   - Product price is not required to obtain from the user.\\n   - Once any details is collected, immediately perform checking with the database to ensure the data is valid.\\n   \\n1b. Intention 2: Save invoice \\n    - Save the invoice details to the invoice database. Confirm details with the user before saving, do not save by yourself.\\n    \\n1c. Intention 3: Edit invoice\\n   - Enable the user to key in the invoice number to view the invoice from the database. \\n\\n2. Other requests:\\n   - such as checking the customer database, to understand what is the customer in the database\\n\\n3. Additional information:\\n   - Only handle tasks related to invoice processing. Politely decline any requests outside the scope of invoice management, and guide the user back to relevant tasks.\\n   - Strictly no text formatting (e.g., no bold, italics, bullet points). Stick to simple text formating only.\\n   - Sumify operates in Malaysia and adapts its language style to suit Bahasa Melayu, English, and Chinese, ensuring clear communication with users.\\n\"},\n",
       " {'role': 'user', 'content': 'Hello'},\n",
       " {'role': 'assistant',\n",
       "  'content': 'Hello! May I assist you with any invoice processing tasks?\\n'},\n",
       " {'role': 'user', 'content': 'What else can you do?'},\n",
       " {'role': 'assistant',\n",
       "  'content': 'I can help you create, edit, and save invoices.  \\n\\nI can also check the customer database if you need to look up customer information.  What can I do for you today?\\n'},\n",
       " {'role': 'user', 'content': 'I want to read the customer database'},\n",
       " {'role': 'assistant',\n",
       "  'tool_calls': [{'id': 'call_5xk3',\n",
       "    'function': {'name': 'read_customer_db',\n",
       "     'arguments': '{\"dummy_param\":\" \"}'},\n",
       "    'type': 'function'}]},\n",
       " {'role': 'tool',\n",
       "  'content': '\"[\\\\n    {\\\\n        \\\\\"company_name\\\\\": \\\\\"ABC Sdn Bhd\\\\\",\\\\n        \\\\\"address\\\\\": \\\\\"123, Jalan Bukit Bintang, 55100 Kuala Lumpur, Malaysia\\\\\",\\\\n        \\\\\"contact_person\\\\\": \\\\\"Mr. Lim\\\\\",\\\\n        \\\\\"contact_number\\\\\": \\\\\"+60 3-1234 5678\\\\\",\\\\n        \\\\\"email\\\\\": \\\\\"lim@abc.com.my\\\\\"\\\\n    },\\\\n    {\\\\n        \\\\\"company_name\\\\\": \\\\\"XYZ Trading\\\\\",\\\\n        \\\\\"address\\\\\": \\\\\"456, Jalan Ampang, 50450 Kuala Lumpur, Malaysia\\\\\",\\\\n        \\\\\"contact_person\\\\\": \\\\\"Ms. Tan\\\\\",\\\\n        \\\\\"contact_number\\\\\": \\\\\"+60 3-8765 4321\\\\\",\\\\n        \\\\\"email\\\\\": \\\\\"tan@xyztrading.com.my\\\\\"\\\\n    },\\\\n    {\\\\n        \\\\\"company_name\\\\\": \\\\\"Tech Innovators\\\\\",\\\\n        \\\\\"address\\\\\": \\\\\"789, Jalan Tun Razak, 50400 Kuala Lumpur, Malaysia\\\\\",\\\\n        \\\\\"contact_person\\\\\": \\\\\"Mr. Wong\\\\\",\\\\n        \\\\\"contact_number\\\\\": \\\\\"+60 3-1234 8765\\\\\",\\\\n        \\\\\"email\\\\\": \\\\\"wong@techinnovators.com.my\\\\\"\\\\n    }\\\\n]\"',\n",
       "  'tool_call_id': 'call_5xk3'},\n",
       " {'role': 'user', 'content': 'Ok that is good.'}]"
      ]
     },
     "execution_count": 49,
     "metadata": {},
     "output_type": "execute_result"
    }
   ],
   "source": [
    "message"
   ]
  },
  {
   "cell_type": "code",
   "execution_count": null,
   "id": "9d0c1866-920e-4f29-80f9-fe8dc9815a22",
   "metadata": {},
   "outputs": [],
   "source": []
  },
  {
   "cell_type": "code",
   "execution_count": null,
   "id": "467a04c7-ceb3-44b7-81cf-b6bee85f9f80",
   "metadata": {},
   "outputs": [],
   "source": []
  },
  {
   "cell_type": "code",
   "execution_count": null,
   "id": "e4efe436-706b-4dfa-ba24-ea9d9ffa5f0d",
   "metadata": {},
   "outputs": [],
   "source": []
  },
  {
   "cell_type": "code",
   "execution_count": 72,
   "id": "8f723815-c4f6-4220-afca-c799c38027ec",
   "metadata": {},
   "outputs": [],
   "source": [
    "from db_utils import load_database, save_database, CUSTOMER_DB, PRODUCT_DB, INVOICE_DB\n",
    "from models import Customer, Product, InvoiceItem, Invoice, InvoiceCreationState\n",
    "\n",
    "from typing import Optional\n",
    "from dataclasses import dataclass, field\n",
    "from typing import List, Tuple, Dict\n",
    "from fuzzywuzzy import process\n",
    "\n",
    "\n",
    "def validate_customer(customer_name: str) -> Tuple[str, Dict]:\n",
    "    \"\"\"\n",
    "    Validate and retrieve a customer from the customer database.\n",
    "\n",
    "    Args:\n",
    "        customer_name (str): The name of the customer to validate.\n",
    "\n",
    "    Returns:\n",
    "        Tuple[str, Dict]: A tuple containing a status message and \n",
    "        a dictionary of customer data if found, or an empty dict if not found.\n",
    "    \"\"\"\n",
    "    customers = load_database(CUSTOMER_DB)\n",
    "    \n",
    "    # Check for exact match\n",
    "    for customer_data in customers:\n",
    "        if customer_data['company_name'].lower() == customer_name.lower():\n",
    "            return \"Customer found\", Customer(**customer_data).to_dict()\n",
    "    \n",
    "    # Check for partial match using fuzzy matching\n",
    "    customer_names = [c['company_name'] for c in customers]\n",
    "    best_matches: List[Tuple[str, int]] = process.extractBests(customer_name, customer_names, limit=3, score_cutoff=60)\n",
    "    \n",
    "    if best_matches:\n",
    "        match_names = [match[0] for match in best_matches]\n",
    "        match_list = \", \".join(match_names)\n",
    "        return f\"Did you mean one of these: {match_list}? Please confirm the customer name again.\", {}\n",
    "    \n",
    "    return \"Customer not found\", {}\n",
    "\n",
    "\n",
    "def handle_create_invoice_intention()\n",
    "    \"\"\"\n",
    "    Handle create invoice intention of the user \n",
    "    This function manages the state of the invoice creation process and delegates\n",
    "    to the process_invoice_creation function for each step.\n",
    "    \"\"\"\n",
    "\n",
    "    \n",
    "def process_invoice_creation():\n",
    "    \"\"\"\n",
    "    Process the invoice creation based on the current state.\n",
    "    This function handles the step-by-step process of creating an invoice,\n",
    "    including getting the customer, adding products, and confirming the invoice.\n",
    "    \"\"\"\n",
    "    if state.step == \"get_customer\":\n",
    "        status, customer_data = validate_customer(user_input)\n",
    "        if status == \"Customer found\":\n",
    "            state.customer = Customer(**customer_data)\n",
    "            state.current_invoice.customer = state.customer\n",
    "            state.step = \"get_products\"\n",
    "            return state, {\"message\": f\"Customer {state.customer.company_name} found. What product would you like to add?\"}\n",
    "        else:\n",
    "            return state, {\"message\": status}"
   ]
  },
  {
   "cell_type": "code",
   "execution_count": 73,
   "id": "02ff5ecd-95ea-4f1f-9c3a-9f59db07a39f",
   "metadata": {},
   "outputs": [
    {
     "data": {
      "text/plain": [
       "('Did you mean one of these: XYZ Trading? Please confirm the customer name again.',\n",
       " {})"
      ]
     },
     "execution_count": 73,
     "metadata": {},
     "output_type": "execute_result"
    }
   ],
   "source": [
    "validate_customer('XYZ Traing')"
   ]
  },
  {
   "cell_type": "code",
   "execution_count": 74,
   "id": "7da1fd01-298c-40ed-bbcf-e923be1a17f8",
   "metadata": {},
   "outputs": [],
   "source": [
    "state = InvoiceCreationState()"
   ]
  },
  {
   "cell_type": "code",
   "execution_count": 75,
   "id": "f0a40a39-d425-4c37-b9f1-add3a0597a1f",
   "metadata": {},
   "outputs": [],
   "source": [
    "new_state, response = handle_create_invoice_intention(state, \"Acme Corp\")"
   ]
  },
  {
   "cell_type": "code",
   "execution_count": 77,
   "id": "4c6ae8c8-82fc-48ce-8c2b-5d105c1b9f62",
   "metadata": {},
   "outputs": [
    {
     "data": {
      "text/plain": [
       "{'message': 'Customer not found'}"
      ]
     },
     "execution_count": 77,
     "metadata": {},
     "output_type": "execute_result"
    }
   ],
   "source": [
    "response"
   ]
  },
  {
   "cell_type": "code",
   "execution_count": null,
   "id": "e3d5682e-d0ac-46de-9dad-f448fc93f90a",
   "metadata": {},
   "outputs": [],
   "source": []
  }
 ],
 "metadata": {
  "kernelspec": {
   "display_name": "Python 3 (ipykernel)",
   "language": "python",
   "name": "python3"
  },
  "language_info": {
   "codemirror_mode": {
    "name": "ipython",
    "version": 3
   },
   "file_extension": ".py",
   "mimetype": "text/x-python",
   "name": "python",
   "nbconvert_exporter": "python",
   "pygments_lexer": "ipython3",
   "version": "3.12.3"
  }
 },
 "nbformat": 4,
 "nbformat_minor": 5
}
