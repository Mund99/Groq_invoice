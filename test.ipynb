{
 "cells": [
  {
   "cell_type": "markdown",
   "id": "685b04f1-72ca-4c4d-8fdd-4b5bfb424cf8",
   "metadata": {},
   "source": [
    "# Setup local path"
   ]
  },
  {
   "cell_type": "code",
   "execution_count": 1,
   "id": "a288bd4e-05a5-4a9d-add0-0c66c67bf17e",
   "metadata": {},
   "outputs": [
    {
     "name": "stdout",
     "output_type": "stream",
     "text": [
      "PROJECT DIRECTORY = /Users/pcloud/Desktop/Groq_invoice\n"
     ]
    }
   ],
   "source": [
    "import os \n",
    "import sys\n",
    "\n",
    "PROJECT_DIR = os.getcwd()\n",
    "print(f'PROJECT DIRECTORY = {PROJECT_DIR}')\n",
    "\n",
    "sys.path.append(PROJECT_DIR)"
   ]
  },
  {
   "cell_type": "markdown",
   "id": "460e6fe0-dbf4-4149-9e71-776bef3b7a2d",
   "metadata": {},
   "source": [
    "# Testing Groq"
   ]
  },
  {
   "cell_type": "code",
   "execution_count": 25,
   "id": "56bb5889-fdeb-4f08-8150-fd24e14a639b",
   "metadata": {},
   "outputs": [],
   "source": [
    "from db_functions import read_customer_db, read_specific_customer\n",
    "from function_tool_creator import create_multiple_function_tools\n",
    "from groq import Groq\n",
    "from config import *\n",
    "import json"
   ]
  },
  {
   "cell_type": "code",
   "execution_count": 30,
   "id": "2784454e-ccca-410b-9186-5325d1c5be43",
   "metadata": {},
   "outputs": [
    {
     "data": {
      "text/plain": [
       "[{'type': 'function',\n",
       "  'function': {'name': 'read_customer_db',\n",
       "   'description': 'Run this function when user requests to read all entries in the customer database.',\n",
       "   'parameters': {'type': 'object',\n",
       "    'properties': {'dummy_param': {'type': 'string',\n",
       "      'description': 'Parameter: dummy_param'}},\n",
       "    'required': []}}}]"
      ]
     },
     "execution_count": 30,
     "metadata": {},
     "output_type": "execute_result"
    }
   ],
   "source": [
    "SYSTEM_MESSAGE = \"\"\"\n",
    "You are Sumify, an AI-powered invoice processing assistant. Your primary role is to help users with tasks related to invoices. The user may request assistance with creating, editing, reviewing or sending invoices. Here are your guidelines:\n",
    "\n",
    "1. Understanding User Intent:\n",
    "   - Identify the user's specific request related to invoice processing.\n",
    "   - Provide clear and concise instructions or actions based on the identified intent. \n",
    "   \n",
    "1a. Intention 1: Creating Invoices\n",
    "   - Gather necessary details such as customer name, product name, unit of measurement (uom) and quantity. \n",
    "   - Product price is not required to obtain from the user.\n",
    "   - Once any details is collected, immediately perform checking with the database to ensure the data is valid.\n",
    "   \n",
    "1b. Intention 2: Save invoice \n",
    "    - Save the invoice details to the invoice database. Confirm details with the user before saving, do not save by yourself.\n",
    "    \n",
    "1c. Intention 3: Edit invoice\n",
    "   - Enable the user to key in the invoice number to view the invoice from the database. \n",
    "\n",
    "2. Other requests:\n",
    "   - such as checking the customer database, to understand what is the customer in the database\n",
    "\n",
    "3. Additional information:\n",
    "   - Only handle tasks related to invoice processing. Politely decline any requests outside the scope of invoice management, and guide the user back to relevant tasks.\n",
    "   - Strictly no text formatting (e.g., no bold, italics, bullet points). Stick to simple text formating only.\n",
    "   - Sumify operates in Malaysia and adapts its language style to suit Bahasa Melayu, English, and Chinese, ensuring clear communication with users.\n",
    "\"\"\"\n",
    "\n",
    "\n",
    "tools = create_multiple_function_tools([read_customer_db])\n",
    "tools"
   ]
  },
  {
   "cell_type": "code",
   "execution_count": 34,
   "id": "636f1daf-7131-4b6f-8a71-0dd8e238b1f6",
   "metadata": {},
   "outputs": [],
   "source": [
    "client = Groq(api_key = os.getenv('GROQ_API_KEY'))\n",
    "model = 'gemma2-9b-it'\n",
    "# model = 'llama3-8b-8192'\n",
    "\n",
    "messages=[\n",
    "        {\n",
    "            \"role\": \"system\",\n",
    "            \"content\": SYSTEM_MESSAGE\n",
    "        },\n",
    "        {\n",
    "            \"role\": \"user\",\n",
    "            \"content\": \"Hello\"\n",
    "        }\n",
    "    ]"
   ]
  },
  {
   "cell_type": "code",
   "execution_count": 35,
   "id": "bf9bc23b-8428-4a4c-8ca3-404a39e3de5d",
   "metadata": {},
   "outputs": [],
   "source": [
    "chat_completion = client.chat.completions.create(\n",
    "    model=model, messages=messages, tools=tools, tool_choice=\"auto\", max_tokens=8192)"
   ]
  },
  {
   "cell_type": "code",
   "execution_count": 36,
   "id": "5f013515-ade2-46b4-9363-f1dbd49b79b7",
   "metadata": {},
   "outputs": [
    {
     "name": "stdout",
     "output_type": "stream",
     "text": [
      "ChatCompletionMessage(content='Hello! May I assist you with any invoice processing tasks?\\n', role='assistant', function_call=None, tool_calls=None)\n"
     ]
    }
   ],
   "source": [
    "response_msg = chat_completion.choices[0].message\n",
    "print(response_msg)"
   ]
  },
  {
   "cell_type": "code",
   "execution_count": 7,
   "id": "5726683f-1539-4964-8ec6-702120d5f530",
   "metadata": {},
   "outputs": [
    {
     "data": {
      "text/plain": [
       "True"
      ]
     },
     "execution_count": 7,
     "metadata": {},
     "output_type": "execute_result"
    }
   ],
   "source": [
    "response_msg.tool_calls == None"
   ]
  },
  {
   "cell_type": "code",
   "execution_count": 8,
   "id": "4d957267-9f55-43ad-8e27-b3f787daf8f1",
   "metadata": {},
   "outputs": [
    {
     "data": {
      "text/plain": [
       "'Hi there! How can I help you with your invoice today?\\n'"
      ]
     },
     "execution_count": 8,
     "metadata": {},
     "output_type": "execute_result"
    }
   ],
   "source": [
    "response_msg.content"
   ]
  },
  {
   "cell_type": "code",
   "execution_count": 37,
   "id": "9b4384ac-8f3b-4725-98fb-33f5d602e641",
   "metadata": {},
   "outputs": [],
   "source": [
    "messages.append({\"role\":response_msg.role, \"content\":response_msg.content})"
   ]
  },
  {
   "cell_type": "code",
   "execution_count": 38,
   "id": "65d35e73-6976-463d-868b-dcecb1f5168a",
   "metadata": {},
   "outputs": [],
   "source": [
    "user_msg = \"What else can you do?\"\n",
    "messages.append({\"role\":\"user\", \"content\": user_msg})\n",
    "chat_completion = client.chat.completions.create(\n",
    "    model=model, messages=messages, tools=tools, tool_choice=\"auto\", max_tokens=8196)"
   ]
  },
  {
   "cell_type": "code",
   "execution_count": 39,
   "id": "6f7b2cf8-7184-4b8c-91c4-ec0abede6ae0",
   "metadata": {},
   "outputs": [
    {
     "name": "stdout",
     "output_type": "stream",
     "text": [
      "ChatCompletionMessage(content='I can help you create, edit, and save invoices.  \\n\\nI can also check the customer database if you need to look up customer information.  What can I do for you today?\\n', role='assistant', function_call=None, tool_calls=None)\n"
     ]
    }
   ],
   "source": [
    "response_msg = chat_completion.choices[0].message\n",
    "print(response_msg)"
   ]
  },
  {
   "cell_type": "code",
   "execution_count": 40,
   "id": "90c03ca8-65d0-4ab1-98ba-30ad99d9b4cc",
   "metadata": {},
   "outputs": [],
   "source": [
    "messages.append({\"role\":response_msg.role, \"content\":response_msg.content})"
   ]
  },
  {
   "cell_type": "code",
   "execution_count": 41,
   "id": "a57a621e-c799-4684-bf15-9337883aa9bc",
   "metadata": {},
   "outputs": [],
   "source": [
    "user_msg = \"I want to read the customer database\"\n",
    "messages.append({\"role\":\"user\", \"content\": user_msg})\n",
    "chat_completion = client.chat.completions.create(\n",
    "    model=model, messages=messages, tools=tools, tool_choice=\"auto\", max_tokens=8196)"
   ]
  },
  {
   "cell_type": "code",
   "execution_count": 42,
   "id": "4cc3b71f-4fbe-441f-8db5-de36cff2246d",
   "metadata": {},
   "outputs": [
    {
     "name": "stdout",
     "output_type": "stream",
     "text": [
      "ChatCompletionMessage(content=None, role='assistant', function_call=None, tool_calls=[ChatCompletionMessageToolCall(id='call_5xk3', function=Function(arguments='{\"dummy_param\":\" \"}', name='read_customer_db'), type='function')])\n"
     ]
    }
   ],
   "source": [
    "response_msg = chat_completion.choices[0].message\n",
    "print(response_msg)"
   ]
  },
  {
   "cell_type": "code",
   "execution_count": 43,
   "id": "a21c6021-f76e-428a-a2de-779f02e94ead",
   "metadata": {},
   "outputs": [
    {
     "data": {
      "text/plain": [
       "[ChatCompletionMessageToolCall(id='call_5xk3', function=Function(arguments='{\"dummy_param\":\" \"}', name='read_customer_db'), type='function')]"
      ]
     },
     "execution_count": 43,
     "metadata": {},
     "output_type": "execute_result"
    }
   ],
   "source": [
    "response_msg.tool_calls"
   ]
  },
  {
   "cell_type": "code",
   "execution_count": 44,
   "id": "490ec91c-1780-483f-8ba3-744bf8e99217",
   "metadata": {},
   "outputs": [],
   "source": [
    "messages.append(\n",
    "    {\n",
    "        \"role\": response_msg.role,\n",
    "        \"tool_calls\": [\n",
    "            {\n",
    "                \"id\": tool_call.id,\n",
    "                \"function\": {\n",
    "                    \"name\": tool_call.function.name,\n",
    "                    \"arguments\": tool_call.function.arguments,\n",
    "                },\n",
    "                \"type\": tool_call.type,\n",
    "            }\n",
    "            for tool_call in response_msg.tool_calls\n",
    "        ],\n",
    "    }\n",
    ")"
   ]
  },
  {
   "cell_type": "code",
   "execution_count": null,
   "id": "b0e4f827-8867-46f5-b5fc-70fee08069a8",
   "metadata": {},
   "outputs": [],
   "source": []
  },
  {
   "cell_type": "code",
   "execution_count": null,
   "id": "0f49d7e7-77fa-4a24-8446-fd1025b30787",
   "metadata": {},
   "outputs": [],
   "source": []
  },
  {
   "cell_type": "code",
   "execution_count": 45,
   "id": "6babb538-beac-4e55-a215-8e22d1e08a0f",
   "metadata": {
    "scrolled": true
   },
   "outputs": [
    {
     "name": "stdout",
     "output_type": "stream",
     "text": [
      "[\n",
      "  {\n",
      "    \"role\": \"system\",\n",
      "    \"content\": \"\\nYou are Sumify, an AI-powered invoice processing assistant. Your primary role is to help users with tasks related to invoices. The user may request assistance with creating, editing, reviewing or sending invoices. Here are your guidelines:\\n\\n1. Understanding User Intent:\\n   - Identify the user's specific request related to invoice processing.\\n   - Provide clear and concise instructions or actions based on the identified intent. \\n   \\n1a. Intention 1: Creating Invoices\\n   - Gather necessary details such as customer name, product name, unit of measurement (uom) and quantity. \\n   - Product price is not required to obtain from the user.\\n   - Once any details is collected, immediately perform checking with the database to ensure the data is valid.\\n   \\n1b. Intention 2: Save invoice \\n    - Save the invoice details to the invoice database. Confirm details with the user before saving, do not save by yourself.\\n    \\n1c. Intention 3: Edit invoice\\n   - Enable the user to key in the invoice number to view the invoice from the database. \\n\\n2. Other requests:\\n   - such as checking the customer database, to understand what is the customer in the database\\n\\n3. Additional information:\\n   - Only handle tasks related to invoice processing. Politely decline any requests outside the scope of invoice management, and guide the user back to relevant tasks.\\n   - Strictly no text formatting (e.g., no bold, italics, bullet points). Stick to simple text formating only.\\n   - Sumify operates in Malaysia and adapts its language style to suit Bahasa Melayu, English, and Chinese, ensuring clear communication with users.\\n\"\n",
      "  },\n",
      "  {\n",
      "    \"role\": \"user\",\n",
      "    \"content\": \"Hello\"\n",
      "  },\n",
      "  {\n",
      "    \"role\": \"assistant\",\n",
      "    \"content\": \"Hello! May I assist you with any invoice processing tasks?\\n\"\n",
      "  },\n",
      "  {\n",
      "    \"role\": \"user\",\n",
      "    \"content\": \"What else can you do?\"\n",
      "  },\n",
      "  {\n",
      "    \"role\": \"assistant\",\n",
      "    \"content\": \"I can help you create, edit, and save invoices.  \\n\\nI can also check the customer database if you need to look up customer information.  What can I do for you today?\\n\"\n",
      "  },\n",
      "  {\n",
      "    \"role\": \"user\",\n",
      "    \"content\": \"I want to read the customer database\"\n",
      "  },\n",
      "  {\n",
      "    \"role\": \"assistant\",\n",
      "    \"tool_calls\": [\n",
      "      {\n",
      "        \"id\": \"call_5xk3\",\n",
      "        \"function\": {\n",
      "          \"name\": \"read_customer_db\",\n",
      "          \"arguments\": \"{\\\"dummy_param\\\":\\\" \\\"}\"\n",
      "        },\n",
      "        \"type\": \"function\"\n",
      "      }\n",
      "    ]\n",
      "  },\n",
      "  {\n",
      "    \"role\": \"tool\",\n",
      "    \"content\": \"\\\"[\\\\n    {\\\\n        \\\\\\\"company_name\\\\\\\": \\\\\\\"ABC Sdn Bhd\\\\\\\",\\\\n        \\\\\\\"address\\\\\\\": \\\\\\\"123, Jalan Bukit Bintang, 55100 Kuala Lumpur, Malaysia\\\\\\\",\\\\n        \\\\\\\"contact_person\\\\\\\": \\\\\\\"Mr. Lim\\\\\\\",\\\\n        \\\\\\\"contact_number\\\\\\\": \\\\\\\"+60 3-1234 5678\\\\\\\",\\\\n        \\\\\\\"email\\\\\\\": \\\\\\\"lim@abc.com.my\\\\\\\"\\\\n    },\\\\n    {\\\\n        \\\\\\\"company_name\\\\\\\": \\\\\\\"XYZ Trading\\\\\\\",\\\\n        \\\\\\\"address\\\\\\\": \\\\\\\"456, Jalan Ampang, 50450 Kuala Lumpur, Malaysia\\\\\\\",\\\\n        \\\\\\\"contact_person\\\\\\\": \\\\\\\"Ms. Tan\\\\\\\",\\\\n        \\\\\\\"contact_number\\\\\\\": \\\\\\\"+60 3-8765 4321\\\\\\\",\\\\n        \\\\\\\"email\\\\\\\": \\\\\\\"tan@xyztrading.com.my\\\\\\\"\\\\n    },\\\\n    {\\\\n        \\\\\\\"company_name\\\\\\\": \\\\\\\"Tech Innovators\\\\\\\",\\\\n        \\\\\\\"address\\\\\\\": \\\\\\\"789, Jalan Tun Razak, 50400 Kuala Lumpur, Malaysia\\\\\\\",\\\\n        \\\\\\\"contact_person\\\\\\\": \\\\\\\"Mr. Wong\\\\\\\",\\\\n        \\\\\\\"contact_number\\\\\\\": \\\\\\\"+60 3-1234 8765\\\\\\\",\\\\n        \\\\\\\"email\\\\\\\": \\\\\\\"wong@techinnovators.com.my\\\\\\\"\\\\n    }\\\\n]\\\"\",\n",
      "    \"tool_call_id\": \"call_5xk3\"\n",
      "  }\n",
      "]\n"
     ]
    }
   ],
   "source": [
    "import json\n",
    "available_functions = {\n",
    "    \"read_customer_db\": read_customer_db,\n",
    "}\n",
    "\n",
    "for tool_call in response_msg.tool_calls:\n",
    "    function_name = tool_call.function.name\n",
    "    function_to_call = available_functions[function_name]\n",
    "    function_args = json.loads(tool_call.function.arguments)\n",
    "    function_response = function_to_call(**function_args)\n",
    "\n",
    "    # Note how we create a separate tool call message for each tool call\n",
    "    # the model is able to discern the tool call result through the tool_call_id\n",
    "    messages.append(\n",
    "        {\n",
    "            \"role\": \"tool\",\n",
    "            \"content\": json.dumps(function_response),\n",
    "            \"tool_call_id\": tool_call.id,\n",
    "        }\n",
    "    )\n",
    "\n",
    "print(json.dumps(messages, indent=2))\n"
   ]
  },
  {
   "cell_type": "code",
   "execution_count": 46,
   "id": "ceb02848-9b51-4205-b4c9-68c04436d32e",
   "metadata": {},
   "outputs": [
    {
     "name": "stdout",
     "output_type": "stream",
     "text": [
      "Here are the customer details from the database:\n",
      "\n",
      "ABC Sdn Bhd\n",
      "123, Jalan Bukit Bintang, 55100 Kuala Lumpur, Malaysia\n",
      "Mr. Lim\n",
      "+60 3-1234 5678\n",
      "lim@abc.com.my\n",
      "\n",
      "XYZ Trading\n",
      "456, Jalan Ampang, 50450 Kuala Lumpur, Malaysia\n",
      "Ms. Tan\n",
      "+60 3-8765 4321\n",
      "tan@xyztrading.com.my\n",
      "\n",
      "Tech Innovators\n",
      "789, Jalan Tun Razak, 50400 Kuala Lumpur, Malaysia\n",
      "Mr. Wong\n",
      "+60 3-1234 8765\n",
      "wong@techinnovators.com.my \n",
      "\n",
      "\n",
      "\n",
      "Would you like to perform any other actions?\n",
      "\n"
     ]
    }
   ],
   "source": [
    "response = client.chat.completions.create(\n",
    "    model=model, messages=messages, tools=tools, tool_choice=\"auto\", max_tokens=8196\n",
    ")\n",
    "\n",
    "print(response.choices[0].message.content)"
   ]
  },
  {
   "cell_type": "code",
   "execution_count": 47,
   "id": "1aa06b2c-21c4-4e1d-93e7-b57c56169a3c",
   "metadata": {},
   "outputs": [],
   "source": [
    "user_msg = \"Ok that is good.\"\n",
    "messages.append({\"role\":\"user\", \"content\": user_msg})\n",
    "chat_completion = client.chat.completions.create(\n",
    "    model=model, messages=messages, tools=tools, tool_choice=\"auto\", max_tokens=8196)"
   ]
  },
  {
   "cell_type": "code",
   "execution_count": 48,
   "id": "f4294994-edd4-4992-9b6a-f83a4ad3aeac",
   "metadata": {},
   "outputs": [
    {
     "name": "stdout",
     "output_type": "stream",
     "text": [
      "ChatCompletionMessage(content='Is there anything else I can help you with regarding your invoices?', role='assistant', function_call=None, tool_calls=None)\n",
      "Is there anything else I can help you with regarding your invoices?\n"
     ]
    }
   ],
   "source": [
    "response_msg = chat_completion.choices[0].message\n",
    "print(response_msg)\n",
    "print(response_msg.content)"
   ]
  },
  {
   "cell_type": "code",
   "execution_count": 49,
   "id": "3f3f027f-67cb-4f71-bb7f-21d3f11eaf7f",
   "metadata": {},
   "outputs": [
    {
     "data": {
      "text/plain": [
       "[{'role': 'system',\n",
       "  'content': \"\\nYou are Sumify, an AI-powered invoice processing assistant. Your primary role is to help users with tasks related to invoices. The user may request assistance with creating, editing, reviewing or sending invoices. Here are your guidelines:\\n\\n1. Understanding User Intent:\\n   - Identify the user's specific request related to invoice processing.\\n   - Provide clear and concise instructions or actions based on the identified intent. \\n   \\n1a. Intention 1: Creating Invoices\\n   - Gather necessary details such as customer name, product name, unit of measurement (uom) and quantity. \\n   - Product price is not required to obtain from the user.\\n   - Once any details is collected, immediately perform checking with the database to ensure the data is valid.\\n   \\n1b. Intention 2: Save invoice \\n    - Save the invoice details to the invoice database. Confirm details with the user before saving, do not save by yourself.\\n    \\n1c. Intention 3: Edit invoice\\n   - Enable the user to key in the invoice number to view the invoice from the database. \\n\\n2. Other requests:\\n   - such as checking the customer database, to understand what is the customer in the database\\n\\n3. Additional information:\\n   - Only handle tasks related to invoice processing. Politely decline any requests outside the scope of invoice management, and guide the user back to relevant tasks.\\n   - Strictly no text formatting (e.g., no bold, italics, bullet points). Stick to simple text formating only.\\n   - Sumify operates in Malaysia and adapts its language style to suit Bahasa Melayu, English, and Chinese, ensuring clear communication with users.\\n\"},\n",
       " {'role': 'user', 'content': 'Hello'},\n",
       " {'role': 'assistant',\n",
       "  'content': 'Hello! May I assist you with any invoice processing tasks?\\n'},\n",
       " {'role': 'user', 'content': 'What else can you do?'},\n",
       " {'role': 'assistant',\n",
       "  'content': 'I can help you create, edit, and save invoices.  \\n\\nI can also check the customer database if you need to look up customer information.  What can I do for you today?\\n'},\n",
       " {'role': 'user', 'content': 'I want to read the customer database'},\n",
       " {'role': 'assistant',\n",
       "  'tool_calls': [{'id': 'call_5xk3',\n",
       "    'function': {'name': 'read_customer_db',\n",
       "     'arguments': '{\"dummy_param\":\" \"}'},\n",
       "    'type': 'function'}]},\n",
       " {'role': 'tool',\n",
       "  'content': '\"[\\\\n    {\\\\n        \\\\\"company_name\\\\\": \\\\\"ABC Sdn Bhd\\\\\",\\\\n        \\\\\"address\\\\\": \\\\\"123, Jalan Bukit Bintang, 55100 Kuala Lumpur, Malaysia\\\\\",\\\\n        \\\\\"contact_person\\\\\": \\\\\"Mr. Lim\\\\\",\\\\n        \\\\\"contact_number\\\\\": \\\\\"+60 3-1234 5678\\\\\",\\\\n        \\\\\"email\\\\\": \\\\\"lim@abc.com.my\\\\\"\\\\n    },\\\\n    {\\\\n        \\\\\"company_name\\\\\": \\\\\"XYZ Trading\\\\\",\\\\n        \\\\\"address\\\\\": \\\\\"456, Jalan Ampang, 50450 Kuala Lumpur, Malaysia\\\\\",\\\\n        \\\\\"contact_person\\\\\": \\\\\"Ms. Tan\\\\\",\\\\n        \\\\\"contact_number\\\\\": \\\\\"+60 3-8765 4321\\\\\",\\\\n        \\\\\"email\\\\\": \\\\\"tan@xyztrading.com.my\\\\\"\\\\n    },\\\\n    {\\\\n        \\\\\"company_name\\\\\": \\\\\"Tech Innovators\\\\\",\\\\n        \\\\\"address\\\\\": \\\\\"789, Jalan Tun Razak, 50400 Kuala Lumpur, Malaysia\\\\\",\\\\n        \\\\\"contact_person\\\\\": \\\\\"Mr. Wong\\\\\",\\\\n        \\\\\"contact_number\\\\\": \\\\\"+60 3-1234 8765\\\\\",\\\\n        \\\\\"email\\\\\": \\\\\"wong@techinnovators.com.my\\\\\"\\\\n    }\\\\n]\"',\n",
       "  'tool_call_id': 'call_5xk3'},\n",
       " {'role': 'user', 'content': 'Ok that is good.'}]"
      ]
     },
     "execution_count": 49,
     "metadata": {},
     "output_type": "execute_result"
    }
   ],
   "source": [
    "message"
   ]
  },
  {
   "cell_type": "code",
   "execution_count": null,
   "id": "9d0c1866-920e-4f29-80f9-fe8dc9815a22",
   "metadata": {},
   "outputs": [],
   "source": []
  },
  {
   "cell_type": "code",
   "execution_count": null,
   "id": "467a04c7-ceb3-44b7-81cf-b6bee85f9f80",
   "metadata": {},
   "outputs": [],
   "source": []
  },
  {
   "cell_type": "code",
   "execution_count": null,
   "id": "e4efe436-706b-4dfa-ba24-ea9d9ffa5f0d",
   "metadata": {},
   "outputs": [],
   "source": []
  },
  {
   "cell_type": "code",
   "execution_count": null,
   "id": "8f723815-c4f6-4220-afca-c799c38027ec",
   "metadata": {},
   "outputs": [],
   "source": [
    "from db_utils import load_database, save_database, CUSTOMER_DB, PRODUCT_DB, INVOICE_DB\n",
    "from models import Customer, Product, InvoiceItem, Invoice, InvoiceCreationState\n",
    "from db_functions import validate_customer\n",
    "\n",
    "from typing import Optional\n",
    "from dataclasses import dataclass, field\n",
    "from typing import List, Tuple, Dict\n",
    "from fuzzywuzzy import process\n",
    "\n",
    "def handle_create_invoice_intention(input_data: Dict[str, Any]) -> Dict[str, Any]:\n",
    "    \"\"\"\n",
    "    Handle create invoice intention of the user.\n",
    "\n",
    "    This function manages the state of the invoice creation process and delegates\n",
    "    to the process_invoice_creation function for each step.\n",
    "\n",
    "    Args:\n",
    "        input_data (Dict[str, Any]): A dictionary containing:\n",
    "            - 'step' (str): The current step in the invoice creation process.\n",
    "            - 'user_input' (str): The user's input for the current step.\n",
    "\n",
    "    Returns:\n",
    "        Dict[str, Any]: A dictionary containing:\n",
    "            - 'step' (str): The next step in the invoice creation process.\n",
    "            - 'message' (str): A message to be displayed to the user.\n",
    "            - 'customer' (Dict[str, Any], optional): Customer data if a customer was found.\n",
    "    \"\"\"\n",
    "    step = input_data.get('step', 'new_invoice')\n",
    "    user_input = input_data.get('user_input', '')\n",
    "\n",
    "    if step == 'new_invoice':\n",
    "        return {\n",
    "            'step': 'get_customer',\n",
    "            'message': \"Let's start creating a new invoice. Please provide the customer name.\"\n",
    "        }\n",
    "    elif step == 'get_customer':\n",
    "        return process_invoice_creation(step, user_input)\n",
    "    else:\n",
    "        return {\n",
    "            'step': 'error',\n",
    "            'message': \"Invalid step. Please start over.\"\n",
    "        }\n",
    "\n",
    "def process_invoice_creation(step: str, user_input: str) -> Dict[str, Any]:\n",
    "    \"\"\"\n",
    "    Process the invoice creation based on the current state.\n",
    "\n",
    "    This function handles the step-by-step process of creating an invoice,\n",
    "    currently only implementing the get_customer step.\n",
    "\n",
    "    Args:\n",
    "        step (str): The current step in the invoice creation process.\n",
    "        user_input (str): The user's input for the current step.\n",
    "\n",
    "    Returns:\n",
    "        Dict[str, Any]: A dictionary containing:\n",
    "            - 'step' (str): The next step in the invoice creation process.\n",
    "            - 'message' (str): A message to be displayed to the user.\n",
    "            - 'customer' (Dict[str, Any], optional): Customer data if a customer was found.\n",
    "    \"\"\"\n",
    "    if step == \"get_customer\":\n",
    "        status, customer_data = validate_customer(user_input)\n",
    "        if status == \"Customer found\":\n",
    "            return {\n",
    "                'step': 'get_products',\n",
    "                'message': f\"Customer {customer_data['company_name']} found. What product would you like to add?\",\n",
    "                'customer': customer_data\n",
    "            }\n",
    "        else:\n",
    "            return {\n",
    "                'step': 'get_customer',\n",
    "                'message': status\n",
    "            }\n",
    "    else:\n",
    "        return {\n",
    "            'step': 'error',\n",
    "            'message': \"Invalid step. Please start over.\"\n",
    "        }\n"
   ]
  },
  {
   "cell_type": "code",
   "execution_count": null,
   "id": "02ff5ecd-95ea-4f1f-9c3a-9f59db07a39f",
   "metadata": {},
   "outputs": [],
   "source": [
    "validate_customer('XYZ Trading')"
   ]
  },
  {
   "cell_type": "code",
   "execution_count": 74,
   "id": "7da1fd01-298c-40ed-bbcf-e923be1a17f8",
   "metadata": {},
   "outputs": [],
   "source": [
    "state = InvoiceCreationState()"
   ]
  },
  {
   "cell_type": "code",
   "execution_count": 75,
   "id": "f0a40a39-d425-4c37-b9f1-add3a0597a1f",
   "metadata": {},
   "outputs": [],
   "source": [
    "new_state, response = handle_create_invoice_intention(state, \"Acme Corp\")"
   ]
  },
  {
   "cell_type": "code",
   "execution_count": 77,
   "id": "4c6ae8c8-82fc-48ce-8c2b-5d105c1b9f62",
   "metadata": {},
   "outputs": [
    {
     "data": {
      "text/plain": [
       "{'message': 'Customer not found'}"
      ]
     },
     "execution_count": 77,
     "metadata": {},
     "output_type": "execute_result"
    }
   ],
   "source": [
    "response"
   ]
  },
  {
   "cell_type": "code",
   "execution_count": null,
   "id": "e3d5682e-d0ac-46de-9dad-f448fc93f90a",
   "metadata": {},
   "outputs": [],
   "source": []
  },
  {
   "cell_type": "code",
   "execution_count": null,
   "id": "9f4d19bd-21df-4d04-899c-50506991fc19",
   "metadata": {},
   "outputs": [],
   "source": []
  },
  {
   "cell_type": "markdown",
   "id": "be3653b1-835b-4d45-ba87-eb802ef968ed",
   "metadata": {},
   "source": [
    "# List gemini models"
   ]
  },
  {
   "cell_type": "code",
   "execution_count": 4,
   "id": "14131803-cf0f-4baf-946f-b0e26f2a86c9",
   "metadata": {},
   "outputs": [],
   "source": [
    "import google.generativeai as genai\n",
    "from config import * \n",
    "\n",
    "genai.configure(api_key=os.getenv(\"GOOGLE_API_KEY\"))"
   ]
  },
  {
   "cell_type": "code",
   "execution_count": 6,
   "id": "761933ae-e756-49c9-aa62-a3c084e35187",
   "metadata": {
    "scrolled": true
   },
   "outputs": [
    {
     "name": "stdout",
     "output_type": "stream",
     "text": [
      "Model(name='models/chat-bison-001',\n",
      "      base_model_id='',\n",
      "      version='001',\n",
      "      display_name='PaLM 2 Chat (Legacy)',\n",
      "      description='A legacy text-only model optimized for chat conversations',\n",
      "      input_token_limit=4096,\n",
      "      output_token_limit=1024,\n",
      "      supported_generation_methods=['generateMessage', 'countMessageTokens'],\n",
      "      temperature=0.25,\n",
      "      top_p=0.95,\n",
      "      top_k=40)\n",
      "Model(name='models/text-bison-001',\n",
      "      base_model_id='',\n",
      "      version='001',\n",
      "      display_name='PaLM 2 (Legacy)',\n",
      "      description='A legacy model that understands text and generates text as an output',\n",
      "      input_token_limit=8196,\n",
      "      output_token_limit=1024,\n",
      "      supported_generation_methods=['generateText', 'countTextTokens', 'createTunedTextModel'],\n",
      "      temperature=0.7,\n",
      "      top_p=0.95,\n",
      "      top_k=40)\n",
      "Model(name='models/embedding-gecko-001',\n",
      "      base_model_id='',\n",
      "      version='001',\n",
      "      display_name='Embedding Gecko',\n",
      "      description='Obtain a distributed representation of a text.',\n",
      "      input_token_limit=1024,\n",
      "      output_token_limit=1,\n",
      "      supported_generation_methods=['embedText', 'countTextTokens'],\n",
      "      temperature=None,\n",
      "      top_p=None,\n",
      "      top_k=None)\n",
      "Model(name='models/gemini-1.0-pro-latest',\n",
      "      base_model_id='',\n",
      "      version='001',\n",
      "      display_name='Gemini 1.0 Pro Latest',\n",
      "      description=('The best model for scaling across a wide range of tasks. This is the latest '\n",
      "                   'model.'),\n",
      "      input_token_limit=30720,\n",
      "      output_token_limit=2048,\n",
      "      supported_generation_methods=['generateContent', 'countTokens'],\n",
      "      temperature=0.9,\n",
      "      top_p=1.0,\n",
      "      top_k=None)\n",
      "Model(name='models/gemini-1.0-pro',\n",
      "      base_model_id='',\n",
      "      version='001',\n",
      "      display_name='Gemini 1.0 Pro',\n",
      "      description='The best model for scaling across a wide range of tasks',\n",
      "      input_token_limit=30720,\n",
      "      output_token_limit=2048,\n",
      "      supported_generation_methods=['generateContent', 'countTokens'],\n",
      "      temperature=0.9,\n",
      "      top_p=1.0,\n",
      "      top_k=None)\n",
      "Model(name='models/gemini-pro',\n",
      "      base_model_id='',\n",
      "      version='001',\n",
      "      display_name='Gemini 1.0 Pro',\n",
      "      description='The best model for scaling across a wide range of tasks',\n",
      "      input_token_limit=30720,\n",
      "      output_token_limit=2048,\n",
      "      supported_generation_methods=['generateContent', 'countTokens'],\n",
      "      temperature=0.9,\n",
      "      top_p=1.0,\n",
      "      top_k=None)\n",
      "Model(name='models/gemini-1.0-pro-001',\n",
      "      base_model_id='',\n",
      "      version='001',\n",
      "      display_name='Gemini 1.0 Pro 001 (Tuning)',\n",
      "      description=('The best model for scaling across a wide range of tasks. This is a stable '\n",
      "                   'model that supports tuning.'),\n",
      "      input_token_limit=30720,\n",
      "      output_token_limit=2048,\n",
      "      supported_generation_methods=['generateContent', 'countTokens', 'createTunedModel'],\n",
      "      temperature=0.9,\n",
      "      top_p=1.0,\n",
      "      top_k=None)\n",
      "Model(name='models/gemini-1.0-pro-vision-latest',\n",
      "      base_model_id='',\n",
      "      version='001',\n",
      "      display_name='Gemini 1.0 Pro Vision',\n",
      "      description='The best image understanding model to handle a broad range of applications',\n",
      "      input_token_limit=12288,\n",
      "      output_token_limit=4096,\n",
      "      supported_generation_methods=['generateContent', 'countTokens'],\n",
      "      temperature=0.4,\n",
      "      top_p=1.0,\n",
      "      top_k=32)\n",
      "Model(name='models/gemini-pro-vision',\n",
      "      base_model_id='',\n",
      "      version='001',\n",
      "      display_name='Gemini 1.0 Pro Vision',\n",
      "      description='The best image understanding model to handle a broad range of applications',\n",
      "      input_token_limit=12288,\n",
      "      output_token_limit=4096,\n",
      "      supported_generation_methods=['generateContent', 'countTokens'],\n",
      "      temperature=0.4,\n",
      "      top_p=1.0,\n",
      "      top_k=32)\n",
      "Model(name='models/gemini-1.5-pro-latest',\n",
      "      base_model_id='',\n",
      "      version='001',\n",
      "      display_name='Gemini 1.5 Pro Latest',\n",
      "      description='Mid-size multimodal model that supports up to 2 million tokens',\n",
      "      input_token_limit=2097152,\n",
      "      output_token_limit=8192,\n",
      "      supported_generation_methods=['generateContent', 'countTokens'],\n",
      "      temperature=1.0,\n",
      "      top_p=0.95,\n",
      "      top_k=64)\n",
      "Model(name='models/gemini-1.5-pro-001',\n",
      "      base_model_id='',\n",
      "      version='001',\n",
      "      display_name='Gemini 1.5 Pro 001',\n",
      "      description='Mid-size multimodal model that supports up to 2 million tokens',\n",
      "      input_token_limit=2097152,\n",
      "      output_token_limit=8192,\n",
      "      supported_generation_methods=['generateContent', 'countTokens', 'createCachedContent'],\n",
      "      temperature=1.0,\n",
      "      top_p=0.95,\n",
      "      top_k=64)\n",
      "Model(name='models/gemini-1.5-pro',\n",
      "      base_model_id='',\n",
      "      version='001',\n",
      "      display_name='Gemini 1.5 Pro',\n",
      "      description='Mid-size multimodal model that supports up to 2 million tokens',\n",
      "      input_token_limit=2097152,\n",
      "      output_token_limit=8192,\n",
      "      supported_generation_methods=['generateContent', 'countTokens'],\n",
      "      temperature=1.0,\n",
      "      top_p=0.95,\n",
      "      top_k=64)\n",
      "Model(name='models/gemini-1.5-pro-exp-0801',\n",
      "      base_model_id='',\n",
      "      version='exp-0801',\n",
      "      display_name='Gemini 1.5 Pro Experimental 0801',\n",
      "      description='Mid-size multimodal model that supports up to 2 million tokens',\n",
      "      input_token_limit=2097152,\n",
      "      output_token_limit=8192,\n",
      "      supported_generation_methods=['generateContent', 'countTokens'],\n",
      "      temperature=1.0,\n",
      "      top_p=0.95,\n",
      "      top_k=64)\n",
      "Model(name='models/gemini-1.5-flash-latest',\n",
      "      base_model_id='',\n",
      "      version='001',\n",
      "      display_name='Gemini 1.5 Flash Latest',\n",
      "      description='Fast and versatile multimodal model for scaling across diverse tasks',\n",
      "      input_token_limit=1048576,\n",
      "      output_token_limit=8192,\n",
      "      supported_generation_methods=['generateContent', 'countTokens'],\n",
      "      temperature=1.0,\n",
      "      top_p=0.95,\n",
      "      top_k=64)\n",
      "Model(name='models/gemini-1.5-flash-001',\n",
      "      base_model_id='',\n",
      "      version='001',\n",
      "      display_name='Gemini 1.5 Flash 001',\n",
      "      description='Fast and versatile multimodal model for scaling across diverse tasks',\n",
      "      input_token_limit=1048576,\n",
      "      output_token_limit=8192,\n",
      "      supported_generation_methods=['generateContent', 'countTokens', 'createCachedContent'],\n",
      "      temperature=1.0,\n",
      "      top_p=0.95,\n",
      "      top_k=64)\n",
      "Model(name='models/gemini-1.5-flash',\n",
      "      base_model_id='',\n",
      "      version='001',\n",
      "      display_name='Gemini 1.5 Flash',\n",
      "      description='Fast and versatile multimodal model for scaling across diverse tasks',\n",
      "      input_token_limit=1048576,\n",
      "      output_token_limit=8192,\n",
      "      supported_generation_methods=['generateContent', 'countTokens'],\n",
      "      temperature=1.0,\n",
      "      top_p=0.95,\n",
      "      top_k=64)\n",
      "Model(name='models/embedding-001',\n",
      "      base_model_id='',\n",
      "      version='001',\n",
      "      display_name='Embedding 001',\n",
      "      description='Obtain a distributed representation of a text.',\n",
      "      input_token_limit=2048,\n",
      "      output_token_limit=1,\n",
      "      supported_generation_methods=['embedContent'],\n",
      "      temperature=None,\n",
      "      top_p=None,\n",
      "      top_k=None)\n",
      "Model(name='models/text-embedding-004',\n",
      "      base_model_id='',\n",
      "      version='004',\n",
      "      display_name='Text Embedding 004',\n",
      "      description='Obtain a distributed representation of a text.',\n",
      "      input_token_limit=2048,\n",
      "      output_token_limit=1,\n",
      "      supported_generation_methods=['embedContent'],\n",
      "      temperature=None,\n",
      "      top_p=None,\n",
      "      top_k=None)\n",
      "Model(name='models/aqa',\n",
      "      base_model_id='',\n",
      "      version='001',\n",
      "      display_name='Model that performs Attributed Question Answering.',\n",
      "      description=('Model trained to return answers to questions that are grounded in provided '\n",
      "                   'sources, along with estimating answerable probability.'),\n",
      "      input_token_limit=7168,\n",
      "      output_token_limit=1024,\n",
      "      supported_generation_methods=['generateAnswer'],\n",
      "      temperature=0.2,\n",
      "      top_p=1.0,\n",
      "      top_k=40)\n"
     ]
    }
   ],
   "source": [
    "import pprint\n",
    "for model in genai.list_models():\n",
    "    pprint.pprint(model)"
   ]
  },
  {
   "cell_type": "code",
   "execution_count": 7,
   "id": "b8e6d536-31d1-43b4-ac87-cc12ac36a25d",
   "metadata": {
    "scrolled": true
   },
   "outputs": [
    {
     "data": {
      "text/plain": [
       "{'gemma-7b-it': {'name': 'Gemma-7b-it', 'developer': 'Google'},\n",
       " 'gemma2-9b-it': {'name': 'Gemma2-9b-it', 'developer': 'Google'},\n",
       " 'whiper-large-v3': {'name': 'Whiper-Large-v3', 'developer': 'OpenAI'},\n",
       " 'llama3-70b-8192': {'name': 'LLaMA3-70b-8192', 'developer': 'Meta'},\n",
       " 'llama3-8b-8192': {'name': 'LLaMA3-8b-8192', 'developer': 'Meta'},\n",
       " 'mixtral-8x7b-32768': {'name': 'Mixtral-8x7b-Instruct-v0.1',\n",
       "  'developer': 'Mistral'},\n",
       " 'gemini-1.5-flash': {'name': 'Gemini-1.5-Flash', 'developer': 'Google'},\n",
       " 'gemini-1.0-pro-latest': {'name': 'Gemini-1.0-Pro-Latest',\n",
       "  'developer': 'Google'},\n",
       " 'gemini-1.0-pro': {'name': 'Gemini-1.0-Pro', 'developer': 'Google'},\n",
       " 'gemini-pro': {'name': 'Gemini-Pro', 'developer': 'Google'},\n",
       " 'gemini-1.0-pro-001': {'name': 'Gemini-1.0-Pro-001', 'developer': 'Google'},\n",
       " 'gemini-1.0-pro-vision-latest': {'name': 'Gemini-1.0-Pro-Vision-Latest',\n",
       "  'developer': 'Google'},\n",
       " 'gemini-pro-vision': {'name': 'Gemini-Pro-Vision', 'developer': 'Google'},\n",
       " 'gemini-1.5-pro-latest': {'name': 'Gemini-1.5-Pro-Latest',\n",
       "  'developer': 'Google'},\n",
       " 'gemini-1.5-pro-001': {'name': 'Gemini-1.5-Pro-001', 'developer': 'Google'},\n",
       " 'gemini-1.5-pro': {'name': 'Gemini-1.5-Pro', 'developer': 'Google'},\n",
       " 'gemini-1.5-pro-exp-0801': {'name': 'Gemini-1.5-Pro-Exp-0801',\n",
       "  'developer': 'Google'},\n",
       " 'gemini-1.5-flash-latest': {'name': 'Gemini-1.5-Flash-Latest',\n",
       "  'developer': 'Google'},\n",
       " 'gemini-1.5-flash-001': {'name': 'Gemini-1.5-Flash-001',\n",
       "  'developer': 'Google'}}"
      ]
     },
     "execution_count": 7,
     "metadata": {},
     "output_type": "execute_result"
    }
   ],
   "source": [
    "MODELS_DETAILS = {\n",
    "    \"gemma-7b-it\": {\"name\": \"Gemma-7b-it\", \"developer\": \"Google\"},\n",
    "    \"gemma2-9b-it\": {\"name\": \"Gemma2-9b-it\", \"developer\": \"Google\"},\n",
    "    \"whiper-large-v3\": {\"name\": \"Whiper-Large-v3\", \"developer\": \"OpenAI\"},\n",
    "    \"llama3-70b-8192\": {\"name\": \"LLaMA3-70b-8192\", \"developer\": \"Meta\"},\n",
    "    \"llama3-8b-8192\": {\"name\": \"LLaMA3-8b-8192\", \"developer\": \"Meta\"},\n",
    "    \"mixtral-8x7b-32768\": {\"name\": \"Mixtral-8x7b-Instruct-v0.1\", \"developer\": \"Mistral\"},\n",
    "    \"gemini-1.5-flash\": {\"name\": \"Gemini-1.5-Flash\", \"developer\": \"Google\"},\n",
    "}\n",
    "\n",
    "for m in genai.list_models():\n",
    "    if \"generateContent\" in m.supported_generation_methods:\n",
    "        model_name = m.name.split(\"models/\")[1]\n",
    "        formatted_name = model_name.replace(\"-\", \" \").title().replace(\" \", \"-\")\n",
    "        MODELS_DETAILS[model_name] = {\"name\": formatted_name, \"developer\": \"Google\"}\n",
    "\n",
    "MODELS_DETAILS"
   ]
  },
  {
   "cell_type": "markdown",
   "id": "e9766b0c-a966-48b5-a077-42eef2fb5e52",
   "metadata": {},
   "source": [
    "# Testing Gemini"
   ]
  },
  {
   "cell_type": "code",
   "execution_count": 1,
   "id": "c681f9d3-a9f1-4716-93a5-11b663e11bb3",
   "metadata": {},
   "outputs": [
    {
     "name": "stdout",
     "output_type": "stream",
     "text": [
      "Current project directory is /Users/pcloud/Desktop/Groq_invoice\n"
     ]
    }
   ],
   "source": [
    "import os\n",
    "import sys\n",
    "\n",
    "PROJECT_DIR = os.getcwd()\n",
    "sys.path.append(PROJECT_DIR)\n",
    "\n",
    "print(f\"Current project directory is {PROJECT_DIR}\")"
   ]
  },
  {
   "cell_type": "code",
   "execution_count": 2,
   "id": "b40552b6-22a5-45dc-bfd7-70597af9e1e8",
   "metadata": {},
   "outputs": [],
   "source": [
    "import google.generativeai as genai\n",
    "from config import * \n",
    "\n",
    "genai.configure(api_key=os.getenv(\"GOOGLE_API_KEY\"))"
   ]
  },
  {
   "cell_type": "code",
   "execution_count": 3,
   "id": "de30716b-056a-4326-bc09-1aedac95acb7",
   "metadata": {},
   "outputs": [],
   "source": [
    "import db_functions\n",
    "from function_tool_creator import create_multiple_function_tools\n",
    "import inspect\n",
    "\n",
    "# Get all functions from db_functions\n",
    "all_functions = [func for name, func in inspect.getmembers(db_functions, inspect.isfunction)]\n",
    "db_functions_list = [func for func in all_functions if func.__module__ == 'db_functions']\n",
    "# Create function tools list\n",
    "tools = create_multiple_function_tools(db_functions_list)\n",
    "# Create available_functions dictionary\n",
    "available_functions = {func.__name__: func for func in db_functions_list}"
   ]
  },
  {
   "cell_type": "code",
   "execution_count": 4,
   "id": "ccb58cbd-4bb0-43d2-a314-693429cacb8b",
   "metadata": {},
   "outputs": [],
   "source": [
    "model = genai.GenerativeModel(\n",
    "    model_name=\"models/gemini-1.5-flash\",\n",
    "    system_instruction = SYSTEM_MESSAGE,\n",
    "    generation_config={\"temperature\":0},\n",
    "    tools = db_functions_list\n",
    ")"
   ]
  },
  {
   "cell_type": "code",
   "execution_count": 5,
   "id": "f475a170-ac7f-4ff8-8fb6-23e17a59c8fd",
   "metadata": {},
   "outputs": [],
   "source": [
    "messages=[\n",
    "        {\n",
    "            \"role\": \"user\",\n",
    "            \"parts\": \"Hello\"\n",
    "        }\n",
    "    ]\n",
    "response = model.generate_content(messages)"
   ]
  },
  {
   "cell_type": "code",
   "execution_count": 6,
   "id": "f6e2a991-687d-4ef2-94b8-b73e70245909",
   "metadata": {},
   "outputs": [
    {
     "name": "stdout",
     "output_type": "stream",
     "text": [
      "model\n",
      "Hi there! How can I help you today with your invoices? \n",
      "\n"
     ]
    }
   ],
   "source": [
    "role = response.candidates[0].content.role\n",
    "text = response.candidates[0].content.parts[0].text\n",
    "\n",
    "print(role)\n",
    "print(text)"
   ]
  },
  {
   "cell_type": "code",
   "execution_count": 7,
   "id": "92fa96d8-5e58-4f7a-84e3-1a7b9d40197b",
   "metadata": {},
   "outputs": [],
   "source": [
    "messages.append({\"role\": role, \"parts\": text})"
   ]
  },
  {
   "cell_type": "code",
   "execution_count": 8,
   "id": "69274140-7659-4f9f-999b-92e6b00320a6",
   "metadata": {},
   "outputs": [],
   "source": [
    "messages.append({\"role\": \"user\", \"parts\": \"Give a 30 words explanation of yourself.\"})\n",
    "response = model.generate_content(messages)"
   ]
  },
  {
   "cell_type": "code",
   "execution_count": 9,
   "id": "8674061b-60f7-4438-ba3b-cddb0623d790",
   "metadata": {},
   "outputs": [
    {
     "name": "stdout",
     "output_type": "stream",
     "text": [
      "model\n",
      "I am Sumify, your AI-powered invoice processing assistant. I can help you create, edit, review, and send invoices. \n",
      "\n"
     ]
    }
   ],
   "source": [
    "role = response.candidates[0].content.role\n",
    "text = response.candidates[0].content.parts[0].text\n",
    "\n",
    "print(role)\n",
    "print(text)"
   ]
  },
  {
   "cell_type": "code",
   "execution_count": 9,
   "id": "982b093d-22e5-4946-8514-9d28ee1b8087",
   "metadata": {
    "scrolled": true
   },
   "outputs": [
    {
     "name": "stdout",
     "output_type": "stream",
     "text": [
      "Yes, ABD Trading is in the customer database. \n",
      "The details are:\n",
      "+ company_name: ABD Trading\n",
      "+ address: 456, Jalan Ampang, 50450 Kuala Lumpur, Malaysia\n",
      "+ contact_number: +60 3-8765 4321\n",
      "+ contact_person: Ms. Tan\n",
      "+ email: tan@abdtrading.com.my \n",
      "\n"
     ]
    }
   ],
   "source": [
    "model = genai.GenerativeModel(\n",
    "    model_name=\"models/gemini-1.5-flash\",\n",
    "    system_instruction = SYSTEM_MESSAGE,\n",
    "    generation_config={\"temperature\":0},\n",
    "    tools = db_functions_list\n",
    ")\n",
    "\n",
    "chat = model.start_chat(enable_automatic_function_calling=True)\n",
    "response = chat.send_message(\"check if ABD trading is in customer database?\")\n",
    "print(response.text)"
   ]
  },
  {
   "cell_type": "code",
   "execution_count": 10,
   "id": "18e60c3b-eb13-46be-949f-06f3d3fb5118",
   "metadata": {
    "scrolled": true
   },
   "outputs": [
    {
     "data": {
      "text/plain": [
       "[parts {\n",
       "   text: \"check if ABD trading is in customer database?\"\n",
       " }\n",
       " role: \"user\",\n",
       " parts {\n",
       "   function_call {\n",
       "     name: \"validate_customer\"\n",
       "     args {\n",
       "       fields {\n",
       "         key: \"customer_name\"\n",
       "         value {\n",
       "           string_value: \"ABD trading\"\n",
       "         }\n",
       "       }\n",
       "     }\n",
       "   }\n",
       " }\n",
       " role: \"model\",\n",
       " parts {\n",
       "   function_response {\n",
       "     name: \"validate_customer\"\n",
       "     response {\n",
       "       fields {\n",
       "         key: \"result\"\n",
       "         value {\n",
       "           list_value {\n",
       "             values {\n",
       "               string_value: \"Customer found\"\n",
       "             }\n",
       "             values {\n",
       "               struct_value {\n",
       "                 fields {\n",
       "                   key: \"email\"\n",
       "                   value {\n",
       "                     string_value: \"tan@abdtrading.com.my\"\n",
       "                   }\n",
       "                 }\n",
       "                 fields {\n",
       "                   key: \"contact_person\"\n",
       "                   value {\n",
       "                     string_value: \"Ms. Tan\"\n",
       "                   }\n",
       "                 }\n",
       "                 fields {\n",
       "                   key: \"contact_number\"\n",
       "                   value {\n",
       "                     string_value: \"+60 3-8765 4321\"\n",
       "                   }\n",
       "                 }\n",
       "                 fields {\n",
       "                   key: \"company_name\"\n",
       "                   value {\n",
       "                     string_value: \"ABD Trading\"\n",
       "                   }\n",
       "                 }\n",
       "                 fields {\n",
       "                   key: \"address\"\n",
       "                   value {\n",
       "                     string_value: \"456, Jalan Ampang, 50450 Kuala Lumpur, Malaysia\"\n",
       "                   }\n",
       "                 }\n",
       "               }\n",
       "             }\n",
       "           }\n",
       "         }\n",
       "       }\n",
       "     }\n",
       "   }\n",
       " }\n",
       " role: \"user\",\n",
       " parts {\n",
       "   text: \"Yes, ABD Trading is in the customer database. \\nThe details are:\\n+ company_name: ABD Trading\\n+ address: 456, Jalan Ampang, 50450 Kuala Lumpur, Malaysia\\n+ contact_number: +60 3-8765 4321\\n+ contact_person: Ms. Tan\\n+ email: tan@abdtrading.com.my \\n\"\n",
       " }\n",
       " role: \"model\"]"
      ]
     },
     "execution_count": 10,
     "metadata": {},
     "output_type": "execute_result"
    }
   ],
   "source": [
    "chat.history"
   ]
  },
  {
   "cell_type": "code",
   "execution_count": 39,
   "id": "ce7ef5ef",
   "metadata": {},
   "outputs": [
    {
     "name": "stdout",
     "output_type": "stream",
     "text": [
      "**User:**\n",
      "check if ABD trading is in customer database?\n",
      "**Model:**\n",
      "Function Call: validate_customer\n",
      "Function Args: {'customer_name': 'ABD trading'}\n",
      "**User:**\n",
      "Function Response: {'result': ['Customer found', <proto.marshal.collections.maps.MapComposite object at 0x10dd7e5a0>]}\n",
      "**Model:**\n",
      "Yes, ABD Trading is in the customer database. \n",
      "The details are:\n",
      "+ company_name: ABD Trading\n",
      "+ address: 456, Jalan Ampang, 50450 Kuala Lumpur, Malaysia\n",
      "+ contact_number: +60 3-8765 4321\n",
      "+ contact_person: Ms. Tan\n",
      "+ email: tan@abdtrading.com.my \n",
      "\n"
     ]
    }
   ],
   "source": [
    "for msg in chat.history:\n",
    "    if msg.role == 'user':\n",
    "        print(\"**User:**\")\n",
    "    elif msg.role == 'model':\n",
    "        print(\"**Model:**\")\n",
    "    \n",
    "    for part in msg.parts:\n",
    "        if 'text' in part:\n",
    "            print(part.text)\n",
    "        elif 'function_call' in part:\n",
    "            func_call = part.function_call\n",
    "            print(\"Function Call:\", func_call.name)\n",
    "            \n",
    "            # Check if args is a MapComposite and handle accordingly\n",
    "            if hasattr(func_call.args, 'fields'):\n",
    "                args_dict = {field.key: field.value.string_value for field in func_call.args.fields}\n",
    "            print(\"Function Args:\", args_dict)\n",
    "        elif 'function_response' in part:\n",
    "            func_response = part.function_response\n",
    "            \n",
    "            # Check if response is a MapComposite and handle accordingly\n",
    "            if hasattr(func_response.response, 'fields'):\n",
    "                response_dict = {field.key: field.value.string_value for field in func_response.response.fields}            \n",
    "            print(\"Function Response:\", response_dict)\n",
    "        else:\n",
    "            print(\"Unknown part type:\", part)"
   ]
  },
  {
   "cell_type": "code",
   "execution_count": 7,
   "id": "1813c2fb-a4bc-4754-b8c8-f578ea6e534a",
   "metadata": {},
   "outputs": [
    {
     "name": "stdout",
     "output_type": "stream",
     "text": [
      "| name | unit_price | uom | description |\n",
      "|---|---|---|---|\n",
      "| Fresh Fragrant Rice | 50.0 | 10kg | High-quality fragrant rice, 10kg pack |\n",
      "| Fresh Fragrant Rice | 30.0 | 5kg | High-quality fragrant rice, 5kg pack |\n",
      "| Fresh Fragrant Rice | 8.0 | 1kg | High-quality fragrant rice, 1kg pack |\n",
      "| Spritzer Mineral Water | 2.0 | 1.5L | Spritzer mineral water, 1.5L bottle |\n",
      "| Spritzer Mineral Water | 1.0 | 600ml | Spritzer mineral water, 600ml bottle |\n",
      "| Laptop | 3500.0 | unit | 15-inch laptop with 8GB RAM and 512GB SSD |\n",
      "| Smartphone | 2500.0 | unit | 6-inch smartphone with 128GB storage and 6GB RAM |\n",
      "| Printer | 800.0 | unit | All-in-one inkjet printer |\n",
      "| Office Chair | 450.0 | unit | Ergonomic office chair with lumbar support |\n",
      "| Desk | 600.0 | unit | Adjustable height desk |\n",
      "\n"
     ]
    }
   ],
   "source": [
    "response = chat.send_message(\"Show me the product database\")\n",
    "print(response.text)"
   ]
  },
  {
   "cell_type": "code",
   "execution_count": 8,
   "id": "d12a9e1e-1085-47ce-9dbb-a6381e03064c",
   "metadata": {},
   "outputs": [
    {
     "name": "stdout",
     "output_type": "stream",
     "text": [
      "parts {\n",
      "  text: \"check if xyz trading is in customer database?\"\n",
      "}\n",
      "role: \"user\"\n",
      "\n",
      "\n",
      "\n",
      "\n",
      "parts {\n",
      "  function_call {\n",
      "    name: \"validate_customer\"\n",
      "    args {\n",
      "      fields {\n",
      "        key: \"customer_name\"\n",
      "        value {\n",
      "          string_value: \"xyz trading\"\n",
      "        }\n",
      "      }\n",
      "    }\n",
      "  }\n",
      "}\n",
      "role: \"model\"\n",
      "\n",
      "\n",
      "\n",
      "\n",
      "parts {\n",
      "  function_response {\n",
      "    name: \"validate_customer\"\n",
      "    response {\n",
      "      fields {\n",
      "        key: \"result\"\n",
      "        value {\n",
      "          list_value {\n",
      "            values {\n",
      "              string_value: \"Did you mean one of these: ABD Trading? Please confirm the customer name again.\"\n",
      "            }\n",
      "            values {\n",
      "              struct_value {\n",
      "              }\n",
      "            }\n",
      "          }\n",
      "        }\n",
      "      }\n",
      "    }\n",
      "  }\n",
      "}\n",
      "role: \"user\"\n",
      "\n",
      "\n",
      "\n",
      "\n",
      "parts {\n",
      "  text: \"Did you mean one of these: ABD Trading? Please confirm the customer name again. \\n\"\n",
      "}\n",
      "role: \"model\"\n",
      "\n",
      "\n",
      "\n",
      "\n",
      "parts {\n",
      "  text: \"Show me the product database\"\n",
      "}\n",
      "role: \"user\"\n",
      "\n",
      "\n",
      "\n",
      "\n",
      "parts {\n",
      "  function_call {\n",
      "    name: \"read_product_db\"\n",
      "    args {\n",
      "      fields {\n",
      "        key: \"dummy_param\"\n",
      "        value {\n",
      "          string_value: \"\"\n",
      "        }\n",
      "      }\n",
      "    }\n",
      "  }\n",
      "}\n",
      "role: \"model\"\n",
      "\n",
      "\n",
      "\n",
      "\n",
      "parts {\n",
      "  function_response {\n",
      "    name: \"read_product_db\"\n",
      "    response {\n",
      "      fields {\n",
      "        key: \"result\"\n",
      "        value {\n",
      "          string_value: \"[\\n    {\\n        \\\"name\\\": \\\"Fresh Fragrant Rice\\\",\\n        \\\"unit_price\\\": 50.0,\\n        \\\"uom\\\": \\\"10kg\\\",\\n        \\\"description\\\": \\\"High-quality fragrant rice, 10kg pack\\\"\\n    },\\n    {\\n        \\\"name\\\": \\\"Fresh Fragrant Rice\\\",\\n        \\\"unit_price\\\": 30.0,\\n        \\\"uom\\\": \\\"5kg\\\",\\n        \\\"description\\\": \\\"High-quality fragrant rice, 5kg pack\\\"\\n    },\\n    {\\n        \\\"name\\\": \\\"Fresh Fragrant Rice\\\",\\n        \\\"unit_price\\\": 8.0,\\n        \\\"uom\\\": \\\"1kg\\\",\\n        \\\"description\\\": \\\"High-quality fragrant rice, 1kg pack\\\"\\n    },\\n    {\\n        \\\"name\\\": \\\"Spritzer Mineral Water\\\",\\n        \\\"unit_price\\\": 2.0,\\n        \\\"uom\\\": \\\"1.5L\\\",\\n        \\\"description\\\": \\\"Spritzer mineral water, 1.5L bottle\\\"\\n    },\\n    {\\n        \\\"name\\\": \\\"Spritzer Mineral Water\\\",\\n        \\\"unit_price\\\": 1.0,\\n        \\\"uom\\\": \\\"600ml\\\",\\n        \\\"description\\\": \\\"Spritzer mineral water, 600ml bottle\\\"\\n    },\\n    {\\n        \\\"name\\\": \\\"Laptop\\\",\\n        \\\"unit_price\\\": 3500.0,\\n        \\\"uom\\\": \\\"unit\\\",\\n        \\\"description\\\": \\\"15-inch laptop with 8GB RAM and 512GB SSD\\\"\\n    },\\n    {\\n        \\\"name\\\": \\\"Smartphone\\\",\\n        \\\"unit_price\\\": 2500.0,\\n        \\\"uom\\\": \\\"unit\\\",\\n        \\\"description\\\": \\\"6-inch smartphone with 128GB storage and 6GB RAM\\\"\\n    },\\n    {\\n        \\\"name\\\": \\\"Printer\\\",\\n        \\\"unit_price\\\": 800.0,\\n        \\\"uom\\\": \\\"unit\\\",\\n        \\\"description\\\": \\\"All-in-one inkjet printer\\\"\\n    },\\n    {\\n        \\\"name\\\": \\\"Office Chair\\\",\\n        \\\"unit_price\\\": 450.0,\\n        \\\"uom\\\": \\\"unit\\\",\\n        \\\"description\\\": \\\"Ergonomic office chair with lumbar support\\\"\\n    },\\n    {\\n        \\\"name\\\": \\\"Desk\\\",\\n        \\\"unit_price\\\": 600.0,\\n        \\\"uom\\\": \\\"unit\\\",\\n        \\\"description\\\": \\\"Adjustable height desk\\\"\\n    }\\n]\"\n",
      "        }\n",
      "      }\n",
      "    }\n",
      "  }\n",
      "}\n",
      "role: \"user\"\n",
      "\n",
      "\n",
      "\n",
      "\n",
      "parts {\n",
      "  text: \"| name | unit_price | uom | description |\\n|---|---|---|---|\\n| Fresh Fragrant Rice | 50.0 | 10kg | High-quality fragrant rice, 10kg pack |\\n| Fresh Fragrant Rice | 30.0 | 5kg | High-quality fragrant rice, 5kg pack |\\n| Fresh Fragrant Rice | 8.0 | 1kg | High-quality fragrant rice, 1kg pack |\\n| Spritzer Mineral Water | 2.0 | 1.5L | Spritzer mineral water, 1.5L bottle |\\n| Spritzer Mineral Water | 1.0 | 600ml | Spritzer mineral water, 600ml bottle |\\n| Laptop | 3500.0 | unit | 15-inch laptop with 8GB RAM and 512GB SSD |\\n| Smartphone | 2500.0 | unit | 6-inch smartphone with 128GB storage and 6GB RAM |\\n| Printer | 800.0 | unit | All-in-one inkjet printer |\\n| Office Chair | 450.0 | unit | Ergonomic office chair with lumbar support |\\n| Desk | 600.0 | unit | Adjustable height desk |\\n\"\n",
      "}\n",
      "role: \"model\"\n",
      "\n",
      "\n",
      "\n",
      "\n"
     ]
    }
   ],
   "source": [
    "for i in chat.history:\n",
    "    print(i)\n",
    "    print(\"\\n\\n\")"
   ]
  },
  {
   "cell_type": "code",
   "execution_count": null,
   "id": "ccccbc2b-9025-4b38-b830-966d9150575b",
   "metadata": {},
   "outputs": [],
   "source": []
  }
 ],
 "metadata": {
  "kernelspec": {
   "display_name": "Python 3 (ipykernel)",
   "language": "python",
   "name": "python3"
  },
  "language_info": {
   "codemirror_mode": {
    "name": "ipython",
    "version": 3
   },
   "file_extension": ".py",
   "mimetype": "text/x-python",
   "name": "python",
   "nbconvert_exporter": "python",
   "pygments_lexer": "ipython3",
   "version": "3.12.3"
  }
 },
 "nbformat": 4,
 "nbformat_minor": 5
}
